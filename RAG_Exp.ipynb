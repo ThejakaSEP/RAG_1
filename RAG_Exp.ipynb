{
  "nbformat": 4,
  "nbformat_minor": 0,
  "metadata": {
    "colab": {
      "provenance": []
    },
    "kernelspec": {
      "name": "python3",
      "display_name": "Python 3"
    },
    "language_info": {
      "name": "python"
    }
  },
  "cells": [
    {
      "cell_type": "code",
      "execution_count": 2,
      "metadata": {
        "colab": {
          "base_uri": "https://localhost:8080/"
        },
        "id": "1K2jjfbn3KuG",
        "outputId": "701700f0-f103-421b-823f-c1e7acf451e3"
      },
      "outputs": [
        {
          "output_type": "stream",
          "name": "stdout",
          "text": [
            "\u001b[2K     \u001b[90m━━━━━━━━━━━━━━━━━━━━━━━━━━━━━━━━━━━━━━━━\u001b[0m \u001b[32m1.8/1.8 MB\u001b[0m \u001b[31m18.1 MB/s\u001b[0m eta \u001b[36m0:00:00\u001b[0m\n",
            "\u001b[2K     \u001b[90m━━━━━━━━━━━━━━━━━━━━━━━━━━━━━━━━━━━━━━━━\u001b[0m \u001b[32m77.0/77.0 kB\u001b[0m \u001b[31m6.6 MB/s\u001b[0m eta \u001b[36m0:00:00\u001b[0m\n",
            "\u001b[2K     \u001b[90m━━━━━━━━━━━━━━━━━━━━━━━━━━━━━━━━━━━━━━━━\u001b[0m \u001b[32m2.0/2.0 MB\u001b[0m \u001b[31m66.3 MB/s\u001b[0m eta \u001b[36m0:00:00\u001b[0m\n",
            "\u001b[2K     \u001b[90m━━━━━━━━━━━━━━━━━━━━━━━━━━━━━━━━━━━━━━\u001b[0m \u001b[32m232.6/232.6 kB\u001b[0m \u001b[31m17.8 MB/s\u001b[0m eta \u001b[36m0:00:00\u001b[0m\n",
            "\u001b[2K     \u001b[90m━━━━━━━━━━━━━━━━━━━━━━━━━━━━━━━━━━━━━━━━\u001b[0m \u001b[32m17.6/17.6 MB\u001b[0m \u001b[31m76.5 MB/s\u001b[0m eta \u001b[36m0:00:00\u001b[0m\n",
            "\u001b[2K     \u001b[90m━━━━━━━━━━━━━━━━━━━━━━━━━━━━━━━━━━━━━━━━\u001b[0m \u001b[32m49.4/49.4 kB\u001b[0m \u001b[31m4.5 MB/s\u001b[0m eta \u001b[36m0:00:00\u001b[0m\n",
            "\u001b[?25h"
          ]
        }
      ],
      "source": [
        "!pip -q install langchain openai tiktoken PyPDF2 faiss-cpu"
      ]
    },
    {
      "cell_type": "code",
      "source": [
        "from langchain.embeddings.openai import OpenAIEmbeddings\n",
        "from langchain.text_splitter import CharacterTextSplitter\n",
        "from langchain.vectorstores import FAISS\n",
        "\n",
        "from langchain.prompts import PromptTemplate\n",
        "from langchain.chains.question_answering import load_qa_chain\n",
        "from langchain.llms import OpenAI\n",
        "\n",
        "import pandas as pd\n",
        "import os"
      ],
      "metadata": {
        "id": "tEhX1gsl3M3D"
      },
      "execution_count": 18,
      "outputs": []
    },
    {
      "cell_type": "markdown",
      "source": [
        "#### Set up Env"
      ],
      "metadata": {
        "id": "hnhlOFsd3vf3"
      }
    },
    {
      "cell_type": "code",
      "source": [
        "# Set the OpenAI API Key\n",
        "os.environ[\"OPENAI_API_KEY\"] = \"<YOUR-API-KEY>\""
      ],
      "metadata": {
        "id": "OufAV_ek3M1O"
      },
      "execution_count": 10,
      "outputs": []
    },
    {
      "cell_type": "code",
      "source": [
        "# Get the text as a single string\n",
        "df = pd.read_csv('/content/sugarwork_production_public_meetings.csv')\n",
        "conversation = df.iloc[0,1]\n",
        "\n",
        "# Checking the first 1000 characters\n",
        "conversation[:1000]"
      ],
      "metadata": {
        "colab": {
          "base_uri": "https://localhost:8080/",
          "height": 143
        },
        "id": "se7YWkH03MzJ",
        "outputId": "3484f679-c177-4ed1-a3ca-f1ea64d1c859"
      },
      "execution_count": 6,
      "outputs": [
        {
          "output_type": "execute_result",
          "data": {
            "text/plain": [
              "\"nicole: Hello.\\nAdeesha Ekanayake-Weber: Good. How are you? I can hear myself. Can you hear me. I can hear you, but can I still hear me? No, I can't hear myself anymore. Cool. I am well. Good.\\nnicole: I message you the topics that I want to make sure that we get through. Did you put them in? I actually don't have prod open right now. I did. And in fact, I made sure we\\nAdeesha Ekanayake-Weber: do it right. Because. We should be experimenting. We should use this to experiment with new ways of summarizing. So here it is all the questions. So I think we can also do is we can have a kind of summary. Where. We organize all of the things that we discussed. Or I guess all of the items we discussed, we should organize them under the questions. And I think that would be one good way of summarizing, don't you think? Yeah, that sounds great.\\nnicole: I want to just log in prod. What is the organization name again? Is it just sugar, work.\\nAdeesha Ekanayake-Weber: Sugarwork hyphen SSO but you should b\""
            ],
            "application/vnd.google.colaboratory.intrinsic+json": {
              "type": "string"
            }
          },
          "metadata": {},
          "execution_count": 6
        }
      ]
    },
    {
      "cell_type": "markdown",
      "source": [
        "#### Chunk the text"
      ],
      "metadata": {
        "id": "FBEIPbOL3vER"
      }
    },
    {
      "cell_type": "code",
      "source": [
        "# Splitting up the text into smaller chunks for indexing\n",
        "text_splitter = CharacterTextSplitter(\n",
        "    separator = \".\",\n",
        "    chunk_size = 1000,\n",
        "    chunk_overlap  = 500, #striding over the text\n",
        "    length_function = len,\n",
        ")\n",
        "texts = text_splitter.split_text(conversation)"
      ],
      "metadata": {
        "id": "kF_vm9dj3MxE"
      },
      "execution_count": 7,
      "outputs": []
    },
    {
      "cell_type": "markdown",
      "source": [
        "#### Making Embeddings"
      ],
      "metadata": {
        "id": "3RMUdDAo39Uw"
      }
    },
    {
      "cell_type": "code",
      "source": [
        "# Download embeddings from OpenAI\n",
        "embeddings = OpenAIEmbeddings()"
      ],
      "metadata": {
        "id": "Efgv71Xx37AE"
      },
      "execution_count": 11,
      "outputs": []
    },
    {
      "cell_type": "code",
      "source": [
        "docsearch = FAISS.from_texts(texts, embeddings)"
      ],
      "metadata": {
        "id": "atBh2SJv3_xI"
      },
      "execution_count": 24,
      "outputs": []
    },
    {
      "cell_type": "markdown",
      "source": [
        "#### Setup the Chain"
      ],
      "metadata": {
        "id": "5p-9jWsq4bAO"
      }
    },
    {
      "cell_type": "code",
      "source": [
        "# Change the prompt\n",
        "prompt_template = \"\"\"Use the following pieces of context to answer the question at the end.\n",
        "The contexts are based on a conversation of a knowledge transfer between two colleagues.\n",
        "If you don't know the answer, just say that you don't know, don't try to make up an answer.\n",
        "\n",
        "{context}\n",
        "\n",
        "Question: {question}\n",
        "Helpful Answer:\"\"\"\n",
        "\n",
        "PROMPT = PromptTemplate(\n",
        "    template=prompt_template, input_variables=[\"context\", \"question\"]\n",
        ")"
      ],
      "metadata": {
        "id": "Acaa-oT2uYdE"
      },
      "execution_count": 19,
      "outputs": []
    },
    {
      "cell_type": "code",
      "source": [
        "# Sample queries to check\n",
        "\n",
        "query = \"What is the organization name\"\n",
        "# query = \"Why do we need a docker file?\"\n",
        "# query = \"how to find the url for the database?\"\n"
      ],
      "metadata": {
        "id": "xYXMEQpv4o3t"
      },
      "execution_count": 20,
      "outputs": []
    },
    {
      "cell_type": "code",
      "source": [
        "# Get similar documents from the FAISS\n",
        "docs = docsearch.similarity_search(query,k=4)"
      ],
      "metadata": {
        "id": "IL_4S9855JQ4"
      },
      "execution_count": 21,
      "outputs": []
    },
    {
      "cell_type": "code",
      "source": [
        "# Get results\n",
        "chain = load_qa_chain(OpenAI(temperature=0), chain_type=\"stuff\", prompt=PROMPT)\n",
        "\n",
        "result = chain({\"input_documents\": docs, \"question\": query}, return_only_outputs=False)\n",
        "\n",
        "result['output_text']"
      ],
      "metadata": {
        "colab": {
          "base_uri": "https://localhost:8080/",
          "height": 35
        },
        "id": "vpUE1rBm5JO2",
        "outputId": "23e72313-e004-4387-b884-4b99906a7f46"
      },
      "execution_count": 22,
      "outputs": [
        {
          "output_type": "execute_result",
          "data": {
            "text/plain": [
              "' The organization name is Sugarwork hyphen SSO.'"
            ],
            "application/vnd.google.colaboratory.intrinsic+json": {
              "type": "string"
            }
          },
          "metadata": {},
          "execution_count": 22
        }
      ]
    },
    {
      "cell_type": "code",
      "source": [
        "# Text chunks that the llm used to output the above text\n",
        "result['input_documents']"
      ],
      "metadata": {
        "colab": {
          "base_uri": "https://localhost:8080/"
        },
        "id": "wMUq7lJmuYbA",
        "outputId": "6dc7bbeb-3116-42e0-ce68-d417e8e2cd13"
      },
      "execution_count": 23,
      "outputs": [
        {
          "output_type": "execute_result",
          "data": {
            "text/plain": [
              "[Document(page_content=\"We should use this to experiment with new ways of summarizing. So here it is all the questions. So I think we can also do is we can have a kind of summary. Where. We organize all of the things that we discussed. Or I guess all of the items we discussed, we should organize them under the questions. And I think that would be one good way of summarizing, don't you think? Yeah, that sounds great.\\nnicole: I want to just log in prod. What is the organization name again? Is it just sugar, work.\\nAdeesha Ekanayake-Weber: Sugarwork hyphen SSO but you should be able to log. In through the SSO link that you get from email, but yeah, you can just type in sugar work if an SSO. Continue.\\nnicole: Microsoft. Last time I had everything logged in. It was on my phone. And so I'm not because I took that call when we did the recording last time. Wait. It didn't log me in.\\nAdeesha Ekanayake-Weber: What do you see. Yeah, let me check. Do you have an sso user? I thought\\nnicole: we did it last time\"),\n",
              " Document(page_content=\"nicole: Hello.\\nAdeesha Ekanayake-Weber: Good. How are you? I can hear myself. Can you hear me. I can hear you, but can I still hear me? No, I can't hear myself anymore. Cool. I am well. Good.\\nnicole: I message you the topics that I want to make sure that we get through. Did you put them in? I actually don't have prod open right now. I did. And in fact, I made sure we\\nAdeesha Ekanayake-Weber: do it right. Because. We should be experimenting. We should use this to experiment with new ways of summarizing. So here it is all the questions. So I think we can also do is we can have a kind of summary. Where. We organize all of the things that we discussed. Or I guess all of the items we discussed, we should organize them under the questions. And I think that would be one good way of summarizing, don't you think? Yeah, that sounds great.\\nnicole: I want to just log in prod. What is the organization name again? Is it just sugar, work\"),\n",
              " Document(page_content=\"Adeesha Ekanayake-Weber: Sugarwork hyphen SSO but you should be able to log. In through the SSO link that you get from email, but yeah, you can just type in sugar work if an SSO. Continue.\\nnicole: Microsoft. Last time I had everything logged in. It was on my phone. And so I'm not because I took that call when we did the recording last time. Wait. It didn't log me in.\\nAdeesha Ekanayake-Weber: What do you see. Yeah, let me check. Do you have an sso user? I thought\\nnicole: we did it last time. But now I'm wondering, Are you logged into outlook. I was trying to log into Outlook, and it gave me this. And I don't remember. Oh, that's the wrong account.\\nAdeesha Ekanayake-Weber: Yeah, that's a production account, which Ironically, isn't our primary account. Our primary account for Outlook is Ironically, our testing account. And we need to come up with a good name for our production account and just start using a production Outlook account as well. If\"),\n",
              " Document(page_content=\"That makes sense. Yeah. Database question. Can you\\nAdeesha Ekanayake-Weber: create a ticker to describe this and add it. To asana and put it to the bottom of our migration task, so that then we know, like, we don't lose track of this. And I agree with you. What you're saying is. We don't need this extra complexity in our config. Let's just move it out to environment variables across the board. Yeah. Agreed. Cool. And then on\\nnicole: that note, database naming. So my understanding. And we can go into the infra. Bad is bad. Last week is that. Everything. Let me pull up this repository. So when we set up the database. In main here is where the Aurora setup is. And so. This is the name of the aurora instance, but unless you set database name the name of the database which we don't set and you could do that. But it would have had to regenerate everything. I didn't want to do that without talking to you. And so I figured out that. The default database name. Is postgres. This postgres\")]"
            ]
          },
          "metadata": {},
          "execution_count": 23
        }
      ]
    },
    {
      "cell_type": "code",
      "source": [],
      "metadata": {
        "id": "QyT0Y6Cd5X4K"
      },
      "execution_count": null,
      "outputs": []
    },
    {
      "cell_type": "markdown",
      "source": [
        "Future Experiments:\n",
        "\n",
        "\n",
        "1.   Preprocess the data\n",
        "2.   Hyperparameter tuning for OpenAI\n",
        "3.   Add Memory to QAChain in order to continue conversation\n",
        "4.   Use open source LLM (Llama 2)\n",
        "5.   Hosting in AWS sagemaker endpoint\n",
        "6.     \n"
      ],
      "metadata": {
        "id": "5RQfQYcz5rpr"
      }
    },
    {
      "cell_type": "code",
      "source": [],
      "metadata": {
        "id": "7AkLRor07MWZ"
      },
      "execution_count": null,
      "outputs": []
    }
  ]
}